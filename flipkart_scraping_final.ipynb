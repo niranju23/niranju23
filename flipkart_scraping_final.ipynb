{
  "nbformat": 4,
  "nbformat_minor": 0,
  "metadata": {
    "colab": {
      "provenance": [],
      "authorship_tag": "ABX9TyMYJAU7RXQn/64Pq0sFtnZD",
      "include_colab_link": true
    },
    "kernelspec": {
      "name": "python3",
      "display_name": "Python 3"
    },
    "language_info": {
      "name": "python"
    }
  },
  "cells": [
    {
      "cell_type": "markdown",
      "metadata": {
        "id": "view-in-github",
        "colab_type": "text"
      },
      "source": [
        "<a href=\"https://colab.research.google.com/github/niranju23/niranju23/blob/main/flipkart_scraping_final.ipynb\" target=\"_parent\"><img src=\"https://colab.research.google.com/assets/colab-badge.svg\" alt=\"Open In Colab\"/></a>"
      ]
    },
    {
      "cell_type": "code",
      "execution_count": 2,
      "metadata": {
        "id": "1qvIB8SGTAwg"
      },
      "outputs": [],
      "source": [
        "import requests\n",
        "from bs4 import BeautifulSoup\n",
        "import csv\n",
        "\n"
      ]
    },
    {
      "cell_type": "code",
      "source": [
        "# Base URL of the Flipkart product reviews\n",
        "base_url = \"https://www.flipkart.com/apple-iphone-14-pro-max-gold-128-gb/product-reviews/itm898d084d8a65f\"\n",
        "\n",
        "# Counter for tracking page number\n",
        "page_number = 1\n",
        "\n",
        "headers = ['rating', 'review']\n",
        "review_data = []\n",
        "\n"
      ],
      "metadata": {
        "id": "VFAP2SACqNZw"
      },
      "execution_count": 3,
      "outputs": []
    },
    {
      "cell_type": "code",
      "source": [
        "while True:\n",
        "    # Construct the URL for the current page\n",
        "    url = f\"{base_url}?page={page_number}\"\n",
        "\n",
        "    # Send an HTTP GET request to the URL\n",
        "    response = requests.get(url)\n",
        "    # Parse the HTML content using BeautifulSoup\n",
        "    soup = BeautifulSoup(response.content, \"html.parser\")\n",
        "\n",
        "    # Find the elements containing reviews and ratings\n",
        "    review_elements = soup.find_all(\"div\", class_=\"_27M-vq\")\n",
        "\n",
        "    # If no review elements found, stop the loop\n",
        "    if not review_elements:\n",
        "        break\n",
        "\n",
        "    # Extract and print reviews and ratings\n",
        "    print(f\"Page {page_number}\")\n",
        "    for review_element in review_elements:\n",
        "        review_text_element = review_element.find(\"div\", class_=\"t-ZTKy\")\n",
        "        rating_element = review_element.find(\"div\", class_=\"_3LWZlK _1BLPMq\")\n",
        "        one_rating_elemnt = review_element.find(\"div\", class_=\"_3LWZlK _1rdVr6 _1BLPMq\")\n",
        "        two_rating_elemnt = review_element.find(\"div\", class_=\"_3LWZlK _32lA32 _1BLPMq\")\n",
        "\n",
        "        if review_text_element and rating_element:\n",
        "            review_text = review_text_element.get_text().strip()\n",
        "            rating = rating_element.get_text()\n",
        "            review_data.append([rating, review_text])\n",
        "            #print(f\"Rating: {rating}\")\n",
        "            #print(f\"Review: {review_text}\")\n",
        "            #print(\"=\" * 50)\n",
        "        elif one_rating_elemnt:\n",
        "            review_text = review_text_element.get_text().strip()\n",
        "            rating = one_rating_elemnt.get_text()\n",
        "            review_data.append([rating, review_text])\n",
        "        elif two_rating_elemnt:\n",
        "            review_text = review_text_element.get_text().strip()\n",
        "            rating = two_rating_elemnt.get_text()\n",
        "            review_data.append([rating, review_text])\n",
        "\n",
        "        else:\n",
        "            print(\"Review or rating element not found.\")\n",
        "\n",
        "    # Increment the page number for the next iteration\n",
        "    page_number += 1"
      ],
      "metadata": {
        "colab": {
          "base_uri": "https://localhost:8080/"
        },
        "id": "VlPeydUAqNuP",
        "outputId": "6c48ffc3-d7e4-4c44-b561-567de7be2e7b"
      },
      "execution_count": 7,
      "outputs": [
        {
          "output_type": "stream",
          "name": "stdout",
          "text": [
            "Page 14\n"
          ]
        }
      ]
    },
    {
      "cell_type": "code",
      "source": [
        "with open('output3.csv','w') as f:\n",
        "    writer = csv.writer(f)\n",
        "    writer.writerow(headers)\n",
        "    writer.writerows(review_data)"
      ],
      "metadata": {
        "id": "UlGjdZmfqN1g"
      },
      "execution_count": 6,
      "outputs": []
    },
    {
      "cell_type": "markdown",
      "source": [
        "# New section"
      ],
      "metadata": {
        "id": "7ZqjLE-u1aNJ"
      }
    },
    {
      "cell_type": "code",
      "source": [],
      "metadata": {
        "id": "6rsK5PD_qN5n"
      },
      "execution_count": null,
      "outputs": []
    },
    {
      "cell_type": "code",
      "source": [],
      "metadata": {
        "id": "ceQTh0JbqN8Q"
      },
      "execution_count": null,
      "outputs": []
    },
    {
      "cell_type": "code",
      "source": [],
      "metadata": {
        "id": "gKTGdEe3qN_v"
      },
      "execution_count": null,
      "outputs": []
    },
    {
      "cell_type": "code",
      "source": [],
      "metadata": {
        "id": "xG2GYK2EqOCv"
      },
      "execution_count": null,
      "outputs": []
    },
    {
      "cell_type": "code",
      "source": [],
      "metadata": {
        "id": "srskpUGHqOGH"
      },
      "execution_count": null,
      "outputs": []
    },
    {
      "cell_type": "code",
      "source": [],
      "metadata": {
        "id": "OwdXz9PaqOJP"
      },
      "execution_count": null,
      "outputs": []
    },
    {
      "cell_type": "code",
      "source": [],
      "metadata": {
        "id": "uY8Fclu5qOMY"
      },
      "execution_count": null,
      "outputs": []
    },
    {
      "cell_type": "code",
      "source": [],
      "metadata": {
        "id": "e8QOUSxnTGIs"
      },
      "execution_count": null,
      "outputs": []
    },
    {
      "cell_type": "code",
      "source": [
        "\n"
      ],
      "metadata": {
        "colab": {
          "base_uri": "https://localhost:8080/",
          "height": 17
        },
        "id": "srK8KjetVahI",
        "outputId": "91168e73-f6cd-4c1b-8258-ad87e1a8c464"
      },
      "execution_count": null,
      "outputs": [
        {
          "output_type": "display_data",
          "data": {
            "text/plain": [
              "<IPython.core.display.Javascript object>"
            ],
            "application/javascript": [
              "\n",
              "    async function download(id, filename, size) {\n",
              "      if (!google.colab.kernel.accessAllowed) {\n",
              "        return;\n",
              "      }\n",
              "      const div = document.createElement('div');\n",
              "      const label = document.createElement('label');\n",
              "      label.textContent = `Downloading \"${filename}\": `;\n",
              "      div.appendChild(label);\n",
              "      const progress = document.createElement('progress');\n",
              "      progress.max = size;\n",
              "      div.appendChild(progress);\n",
              "      document.body.appendChild(div);\n",
              "\n",
              "      const buffers = [];\n",
              "      let downloaded = 0;\n",
              "\n",
              "      const channel = await google.colab.kernel.comms.open(id);\n",
              "      // Send a message to notify the kernel that we're ready.\n",
              "      channel.send({})\n",
              "\n",
              "      for await (const message of channel.messages) {\n",
              "        // Send a message to notify the kernel that we're ready.\n",
              "        channel.send({})\n",
              "        if (message.buffers) {\n",
              "          for (const buffer of message.buffers) {\n",
              "            buffers.push(buffer);\n",
              "            downloaded += buffer.byteLength;\n",
              "            progress.value = downloaded;\n",
              "          }\n",
              "        }\n",
              "      }\n",
              "      const blob = new Blob(buffers, {type: 'application/binary'});\n",
              "      const a = document.createElement('a');\n",
              "      a.href = window.URL.createObjectURL(blob);\n",
              "      a.download = filename;\n",
              "      div.appendChild(a);\n",
              "      a.click();\n",
              "      div.remove();\n",
              "    }\n",
              "  "
            ]
          },
          "metadata": {}
        },
        {
          "output_type": "display_data",
          "data": {
            "text/plain": [
              "<IPython.core.display.Javascript object>"
            ],
            "application/javascript": [
              "download(\"download_f49e2613-3ee2-4f32-b17d-067c1b40de80\", \"flipkart_reviews.xlsx\", 6104)"
            ]
          },
          "metadata": {}
        }
      ]
    },
    {
      "cell_type": "code",
      "source": [],
      "metadata": {
        "id": "u4JmiQSUVcV_"
      },
      "execution_count": null,
      "outputs": []
    }
  ]
}